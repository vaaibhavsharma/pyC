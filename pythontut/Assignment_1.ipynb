{
  "nbformat": 4,
  "nbformat_minor": 0,
  "metadata": {
    "colab": {
      "name": "tut1.ipynb",
      "provenance": []
    },
    "kernelspec": {
      "name": "python3",
      "display_name": "Python 3"
    },
    "language_info": {
      "name": "python"
    }
  },
  "cells": [
    {
      "cell_type": "code",
      "metadata": {
        "id": "8Y2oUUO8nTcJ"
      },
      "source": [
        "width = 17\n",
        "height = 12.0\n",
        "delimiter = '.'"
      ],
      "execution_count": null,
      "outputs": []
    },
    {
      "cell_type": "code",
      "metadata": {
        "colab": {
          "base_uri": "https://localhost:8080/"
        },
        "id": "SMJG4CotnnN8",
        "outputId": "79eb2348-8813-4cb2-f059-511c720a744c"
      },
      "source": [
        "print(width/2)\n",
        "type(width/2)"
      ],
      "execution_count": null,
      "outputs": [
        {
          "output_type": "stream",
          "text": [
            "8.5\n"
          ],
          "name": "stdout"
        },
        {
          "output_type": "execute_result",
          "data": {
            "text/plain": [
              "float"
            ]
          },
          "metadata": {},
          "execution_count": 12
        }
      ]
    },
    {
      "cell_type": "code",
      "metadata": {
        "colab": {
          "base_uri": "https://localhost:8080/"
        },
        "id": "uFOeQYm9n0HR",
        "outputId": "160959b0-82a3-46fc-efc2-8a46cff22e02"
      },
      "source": [
        "print(width/2.0)\n",
        "type(width/2.0)"
      ],
      "execution_count": null,
      "outputs": [
        {
          "output_type": "stream",
          "text": [
            "8.5\n"
          ],
          "name": "stdout"
        },
        {
          "output_type": "execute_result",
          "data": {
            "text/plain": [
              "float"
            ]
          },
          "metadata": {},
          "execution_count": 11
        }
      ]
    },
    {
      "cell_type": "code",
      "metadata": {
        "colab": {
          "base_uri": "https://localhost:8080/"
        },
        "id": "wKaIiaXHn5dX",
        "outputId": "a8402227-b512-4e3b-857b-583084b3a2b4"
      },
      "source": [
        "print(height/3) \n",
        "type(height/3)"
      ],
      "execution_count": null,
      "outputs": [
        {
          "output_type": "execute_result",
          "data": {
            "text/plain": [
              "float"
            ]
          },
          "metadata": {},
          "execution_count": 10
        }
      ]
    },
    {
      "cell_type": "code",
      "metadata": {
        "colab": {
          "base_uri": "https://localhost:8080/"
        },
        "id": "YaNpXwK1oDN1",
        "outputId": "1d61536c-7068-42a7-f4b5-ff448e679ea3"
      },
      "source": [
        "1+2*5"
      ],
      "execution_count": null,
      "outputs": [
        {
          "output_type": "execute_result",
          "data": {
            "text/plain": [
              "11"
            ]
          },
          "metadata": {},
          "execution_count": 7
        }
      ]
    },
    {
      "cell_type": "code",
      "metadata": {
        "colab": {
          "base_uri": "https://localhost:8080/",
          "height": 35
        },
        "id": "mS5FWQU7oHTX",
        "outputId": "a49d90c9-d1ec-4c67-ac34-79063544b2cc"
      },
      "source": [
        "delimiter*5"
      ],
      "execution_count": null,
      "outputs": [
        {
          "output_type": "execute_result",
          "data": {
            "application/vnd.google.colaboratory.intrinsic+json": {
              "type": "string"
            },
            "text/plain": [
              "'.....'"
            ]
          },
          "metadata": {},
          "execution_count": 8
        }
      ]
    },
    {
      "cell_type": "code",
      "metadata": {
        "colab": {
          "base_uri": "https://localhost:8080/"
        },
        "id": "WuUjlaFgobtF",
        "outputId": "d3c9981f-e123-4856-81c2-5a907329a781"
      },
      "source": [
        "import math\n",
        "\n",
        "r = 5\n",
        "volume = (4/3)*(math.pi)*r**3\n",
        "print(volume)"
      ],
      "execution_count": null,
      "outputs": [
        {
          "output_type": "stream",
          "text": [
            "523.5987755982989\n"
          ],
          "name": "stdout"
        }
      ]
    },
    {
      "cell_type": "code",
      "metadata": {
        "colab": {
          "base_uri": "https://localhost:8080/"
        },
        "id": "B_9HRxO2pOXl",
        "outputId": "93f10fa5-5712-4f75-9c73-48d537511a1c"
      },
      "source": [
        "# Cover price = p \n",
        "# discount = d\n",
        "# total book = t\n",
        "p = 24.95\n",
        "d = 0.4\n",
        "t = 60\n",
        "price = (p - (p * d)) * t\n",
        "#delivery\n",
        "deli = 3 + (0.75 *(t-1)) \n",
        "print(price + deli)"
      ],
      "execution_count": null,
      "outputs": [
        {
          "output_type": "stream",
          "text": [
            "945.4499999999999\n"
          ],
          "name": "stdout"
        }
      ]
    },
    {
      "cell_type": "code",
      "metadata": {
        "id": "1x8jQXd1Mdz3"
      },
      "source": [
        ""
      ],
      "execution_count": null,
      "outputs": []
    }
  ]
}