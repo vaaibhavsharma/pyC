{
  "nbformat": 4,
  "nbformat_minor": 0,
  "metadata": {
    "colab": {
      "name": "Assignment 11.ipynb",
      "provenance": [],
      "collapsed_sections": [],
      "authorship_tag": "ABX9TyNFEVLKHmtEzu4vsrNsBVMk",
      "include_colab_link": true
    },
    "kernelspec": {
      "name": "python3",
      "display_name": "Python 3"
    },
    "language_info": {
      "name": "python"
    }
  },
  "cells": [
    {
      "cell_type": "markdown",
      "metadata": {
        "id": "view-in-github",
        "colab_type": "text"
      },
      "source": [
        "<a href=\"https://colab.research.google.com/github/vaaibhavsharma/pyCJ/blob/main/pythontut/Assignment_11.ipynb\" target=\"_parent\"><img src=\"https://colab.research.google.com/assets/colab-badge.svg\" alt=\"Open In Colab\"/></a>"
      ]
    },
    {
      "cell_type": "code",
      "metadata": {
        "colab": {
          "base_uri": "https://localhost:8080/"
        },
        "id": "8upNe8KEkGvr",
        "outputId": "67e76069-1ac7-422f-a0b9-0b3461434a98"
      },
      "source": [
        "# An abstract class can be considered as a blueprint for other classes. \n",
        "# It allows you to create a set of methods that must be created within any child classes built from the abstract class.\n",
        "\n",
        "from abc import ABC, abstractmethod\n",
        " \n",
        "class Polygon(ABC):\n",
        " \n",
        "    @abstractmethod\n",
        "    def noofsides(self):\n",
        "        pass\n",
        " \n",
        "class Triangle(Polygon):\n",
        " \n",
        "    # overriding abstract method\n",
        "    def noofsides(self):\n",
        "        print(\"I have 3 sides\")\n",
        " \n",
        "class Pentagon(Polygon):\n",
        " \n",
        "    # overriding abstract method\n",
        "    def noofsides(self):\n",
        "        print(\"I have 5 sides\")\n",
        " \n",
        "class Hexagon(Polygon):\n",
        " \n",
        "    # overriding abstract method\n",
        "    def noofsides(self):\n",
        "        print(\"I have 6 sides\")\n",
        " \n",
        "class Quadrilateral(Polygon):\n",
        " \n",
        "    # overriding abstract method\n",
        "    def noofsides(self):\n",
        "        print(\"I have 4 sides\")\n",
        " \n",
        "# Driver code\n",
        "R = Triangle()\n",
        "R.noofsides()\n",
        " \n",
        "K = Quadrilateral()\n",
        "K.noofsides()\n",
        " \n",
        "R = Pentagon()\n",
        "R.noofsides()\n",
        " \n",
        "K = Hexagon()\n",
        "K.noofsides()"
      ],
      "execution_count": 1,
      "outputs": [
        {
          "output_type": "stream",
          "name": "stdout",
          "text": [
            "I have 3 sides\n",
            "I have 4 sides\n",
            "I have 5 sides\n",
            "I have 6 sides\n"
          ]
        }
      ]
    },
    {
      "cell_type": "code",
      "metadata": {
        "colab": {
          "base_uri": "https://localhost:8080/"
        },
        "id": "IMGKb3IIlwBQ",
        "outputId": "ae61d7c4-786c-4078-c516-f357abf17a2e"
      },
      "source": [
        "import threading\n",
        "import time\n",
        "\n",
        "def print_time( threadName, delay):\n",
        "   count = 0\n",
        "   while count < 5:\n",
        "      time.sleep(delay)\n",
        "      count += 1\n",
        "      print(threadName, time.ctime(time.time()))\n",
        "\n",
        "# Create two threads as follows\n",
        "try:\n",
        "   t1 = threading.Thread(target=print_time, args=(\"Thread-1\", 2))\n",
        "   t2 = threading.Thread(target=print_time, args=(\"Thread-2\", 4))\n",
        "   t1.start()\n",
        "   t2.start()\n",
        "   t1.join()\n",
        "   t1.join()\n",
        "except:\n",
        "   print(\"Error: unable to start thread\")\n",
        "\n"
      ],
      "execution_count": 8,
      "outputs": [
        {
          "output_type": "stream",
          "name": "stdout",
          "text": [
            "Thread-1 Thu Nov 25 19:56:59 2021\n",
            "Thread-1 Thu Nov 25 19:57:01 2021\n",
            "Thread-2 Thu Nov 25 19:57:01 2021\n",
            "Thread-1 Thu Nov 25 19:57:03 2021\n",
            "Thread-1 Thu Nov 25 19:57:05 2021\n",
            "Thread-2 Thu Nov 25 19:57:05 2021\n",
            "Thread-1 Thu Nov 25 19:57:07 2021\n"
          ]
        }
      ]
    }
  ]
}