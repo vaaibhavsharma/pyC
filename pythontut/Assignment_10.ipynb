{
  "nbformat": 4,
  "nbformat_minor": 0,
  "metadata": {
    "colab": {
      "name": "Assignment 10.ipynb",
      "provenance": [],
      "authorship_tag": "ABX9TyNeKCf+SwO6R5ZtlBkmjRCb",
      "include_colab_link": true
    },
    "kernelspec": {
      "name": "python3",
      "display_name": "Python 3"
    },
    "language_info": {
      "name": "python"
    }
  },
  "cells": [
    {
      "cell_type": "markdown",
      "metadata": {
        "id": "view-in-github",
        "colab_type": "text"
      },
      "source": [
        "<a href=\"https://colab.research.google.com/github/vaaibhavsharma/pyCJ/blob/main/pythontut/Assignment_10.ipynb\" target=\"_parent\"><img src=\"https://colab.research.google.com/assets/colab-badge.svg\" alt=\"Open In Colab\"/></a>"
      ]
    },
    {
      "cell_type": "markdown",
      "metadata": {
        "id": "CfrHXpzECXou"
      },
      "source": [
        "# PYTHON OOPS"
      ]
    },
    {
      "cell_type": "code",
      "metadata": {
        "colab": {
          "base_uri": "https://localhost:8080/"
        },
        "id": "-gTKl1GPCSMW",
        "outputId": "3cb13df0-39f4-473f-877a-3f00ccca6a91"
      },
      "source": [
        "# Operator Overloading\n",
        "class complexNumbers:\n",
        "    def __init__(self, a, b):\n",
        "        self.a = a\n",
        "        self.b = b\n",
        " \n",
        "    def __add__(self, naah):\n",
        "        return self.a + naah.a, self.b + naah.b\n",
        " \n",
        "ObjOne = complexNumbers(5, 1)\n",
        "ObjTwo = complexNumbers(10, 5)\n",
        "Ob3 = ObjOne + ObjTwo\n",
        "print(Ob3)"
      ],
      "execution_count": 1,
      "outputs": [
        {
          "output_type": "stream",
          "name": "stdout",
          "text": [
            "(15, 6)\n"
          ]
        }
      ]
    },
    {
      "cell_type": "code",
      "metadata": {
        "colab": {
          "base_uri": "https://localhost:8080/"
        },
        "id": "aXpOkQgXEn36",
        "outputId": "a295238a-7d77-45d4-f367-947c04d5a4a5"
      },
      "source": [
        "# Duck Typing\n",
        "class Specialstring:\n",
        "    def __len__(self):\n",
        "        return 21\n",
        "  \n",
        "if __name__ == \"__main__\":\n",
        "  \n",
        "    string = Specialstring()\n",
        "    print(len(string))\n",
        "\n",
        "# The object’s type itself is not significant in this we do not declare the argument \n",
        "# in method prototypes. This means that compilers can not do type-checking. \n",
        "# Therefore, what really matters is if the object has particular attributes at run time."
      ],
      "execution_count": 2,
      "outputs": [
        {
          "output_type": "stream",
          "name": "stdout",
          "text": [
            "21\n"
          ]
        }
      ]
    },
    {
      "cell_type": "code",
      "metadata": {
        "id": "PV25SpZ5GoUr"
      },
      "source": [
        "# Classmethod\n",
        "\n",
        "class Student:\n",
        "  \n",
        "    # create a variable\n",
        "    name = \"Geeksforgeeks\"\n",
        "  \n",
        "    # create a function\n",
        "    def print_name(obj):\n",
        "        print(\"The name is : \", obj.name)\n",
        "  \n",
        "  \n",
        "# create print_name classmethod\n",
        "# before creating this line print_name()\n",
        "# It can be called only with object not with class\n",
        "Student.print_name = classmethod(Student.print_name)\n",
        "  \n",
        "# now this method can be called as classmethod\n",
        "# print_name() method is called a class method\n",
        "Student.print_name()"
      ],
      "execution_count": null,
      "outputs": []
    },
    {
      "cell_type": "code",
      "metadata": {
        "colab": {
          "base_uri": "https://localhost:8080/"
        },
        "id": "_hIofkspHRQr",
        "outputId": "bf62e6ed-efa8-4390-d069-238c7e6d7c9a"
      },
      "source": [
        "from datetime import date\n",
        "  \n",
        "class Person:\n",
        "    def __init__(self, name, age):\n",
        "        self.name = name\n",
        "        self.age = age\n",
        "      \n",
        "    # a class method to create a Person object by birth year.\n",
        "    @classmethod\n",
        "    def fromBirthYear(cls, name, year):\n",
        "        return cls(name, date.today().year - year)\n",
        "      \n",
        "    # a static method to check if a Person is adult or not.\n",
        "    @staticmethod\n",
        "    def isAdult(age):\n",
        "        return age > 18\n",
        "  \n",
        "person1 = Person('mayank', 21)\n",
        "person2 = Person.fromBirthYear('mayank', 1996)\n",
        "  \n",
        "print (person1.age)\n",
        "print (person2.age)\n",
        "  \n",
        "# print the result\n",
        "print (Person.isAdult(22))"
      ],
      "execution_count": 3,
      "outputs": [
        {
          "output_type": "stream",
          "name": "stdout",
          "text": [
            "21\n",
            "25\n",
            "True\n"
          ]
        }
      ]
    },
    {
      "cell_type": "code",
      "metadata": {
        "colab": {
          "base_uri": "https://localhost:8080/"
        },
        "id": "ItVS4x_OHt16",
        "outputId": "da0b5b87-294b-444b-9bc8-70fb51f783a7"
      },
      "source": [
        "# Instance Method\n",
        "# Instance attributes are those attributes that are not shared by objects. \n",
        "# Every object has its own copy of the instance attribute.\n",
        "\n",
        "\n",
        "class shape:\n",
        "      \n",
        "    # Calling Constructor\n",
        "    def __init__(self, edge, color):\n",
        "        self.edge = edge\n",
        "        self.color = color\n",
        "          \n",
        "    # Instance Method\n",
        "    def finEdges(self):\n",
        "        return self.edge\n",
        "          \n",
        "    # Instance Method\n",
        "    def modifyEdges(self, newedge):\n",
        "        self.edge = newedge\n",
        "          \n",
        "# Driver Code\n",
        "circle = shape(0, 'red')\n",
        "square = shape(4, 'blue')\n",
        "  \n",
        "# Calling Instance Method\n",
        "print(\"No. of edges for circle: \"+ str(circle.finEdges()))\n",
        "  \n",
        "# Calling Instance Method\n",
        "square.modifyEdges(6)\n",
        "  \n",
        "print(\"No. of edges for square: \"+ str(square.finEdges()))\n",
        "\n"
      ],
      "execution_count": 1,
      "outputs": [
        {
          "output_type": "stream",
          "name": "stdout",
          "text": [
            "No. of edges for circle: 0\n",
            "No. of edges for square: 6\n"
          ]
        }
      ]
    },
    {
      "cell_type": "code",
      "metadata": {
        "colab": {
          "base_uri": "https://localhost:8080/"
        },
        "id": "-B77SkZSILgG",
        "outputId": "b3900075-4e4b-4109-b701-6864000d490f"
      },
      "source": [
        "# Python Class Variables\n",
        "# A Python class variable is shared by all object instances of a class. \n",
        "# Class variables are declared when a class is being constructed. \n",
        "# They are not defined inside any methods of a class.\n",
        "\n",
        "# Because a class variable is shared by instances of a class, \n",
        "# the Python class owns the variable. As a result, \n",
        "# all instances of the class will be able to access that variable. \n",
        "# Class variables are shared by all instances that access the class.\n",
        "\n",
        "class Espresso:\n",
        "\tmenu_type = \"Drink\"\n",
        "\n",
        "espresso_order = Espresso()\n",
        "print(espresso_order.menu_type)\n",
        "espresso_order_two = Espresso()\n",
        "print(espresso_order_two.menu_type)\n"
      ],
      "execution_count": 2,
      "outputs": [
        {
          "output_type": "stream",
          "name": "stdout",
          "text": [
            "Drink\n",
            "Drink\n"
          ]
        }
      ]
    },
    {
      "cell_type": "code",
      "metadata": {
        "colab": {
          "base_uri": "https://localhost:8080/"
        },
        "id": "hlDAF5rvIsGL",
        "outputId": "fa9e25f4-d12a-45d6-88ce-9530d780be52"
      },
      "source": [
        "# Inner Class in Python\n",
        "# A class defined in another class is known as inner class or nested class. \n",
        "# If an object is created using child class means inner class then the object can also be used by parent class or root class. \n",
        "# A parent class can have one or more inner class but generally inner classes are avoided.\n",
        "\n",
        "# We can make our code even more object oriented by using inner class.\n",
        "# A single object of the class can hold multiple sub-objects. \n",
        "# We can use multiple sub-objects to give a good structure to our program.\n",
        "\n",
        "# create a Color class\n",
        "class Color:\n",
        "    \n",
        "  # constructor method\n",
        "  def __init__(self):\n",
        "    # object attributes\n",
        "    self.name = 'Green'\n",
        "    self.lg = self.Lightgreen()\n",
        "    \n",
        "  def show(self):\n",
        "    print(\"Name:\", self.name)\n",
        "    \n",
        "  # create Lightgreen class\n",
        "  class Lightgreen:\n",
        "     def __init__(self):\n",
        "        self.name = 'Light Green'\n",
        "        self.code = '024avc'\n",
        "    \n",
        "     def display(self):\n",
        "        print(\"Name:\", self.name)\n",
        "        print(\"Code:\", self.code)\n",
        "  \n",
        "# create Color class object\n",
        "outer = Color()\n",
        "  \n",
        "# method calling\n",
        "outer.show()\n",
        "  \n",
        "# create a Lightgreen \n",
        "# inner class object\n",
        "g = outer.lg\n",
        "  \n",
        "# inner class method calling\n",
        "g.display()"
      ],
      "execution_count": 5,
      "outputs": [
        {
          "output_type": "stream",
          "name": "stdout",
          "text": [
            "Name: Green\n",
            "Name: Light Green\n",
            "Code: 024avc\n"
          ]
        }
      ]
    }
  ]
}