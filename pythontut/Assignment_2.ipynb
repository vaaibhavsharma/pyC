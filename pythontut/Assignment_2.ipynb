{
  "nbformat": 4,
  "nbformat_minor": 0,
  "metadata": {
    "colab": {
      "name": "Assignment 2.ipynb",
      "provenance": [],
      "collapsed_sections": []
    },
    "kernelspec": {
      "name": "python3",
      "display_name": "Python 3"
    },
    "language_info": {
      "name": "python"
    }
  },
  "cells": [
    {
      "cell_type": "markdown",
      "metadata": {
        "id": "uPSS-mjRomAZ"
      },
      "source": [
        "**Arithmetic operators**\n",
        "\n",
        "---\n",
        "\n",
        "\n",
        "\n",
        "---\n",
        "\n",
        "\n"
      ]
    },
    {
      "cell_type": "code",
      "metadata": {
        "id": "CKnUodw62odh"
      },
      "source": [
        ""
      ],
      "execution_count": null,
      "outputs": []
    },
    {
      "cell_type": "code",
      "metadata": {
        "colab": {
          "base_uri": "https://localhost:8080/"
        },
        "id": "g0sywbUYok2J",
        "outputId": "91c2f372-ce48-416a-8b64-698c9a66e87a"
      },
      "source": [
        "# Addition Operator\n",
        "one = 1\n",
        "two = 2\n",
        "three = one + two\n",
        "print(three)"
      ],
      "execution_count": null,
      "outputs": [
        {
          "output_type": "stream",
          "text": [
            "3\n"
          ],
          "name": "stdout"
        }
      ]
    },
    {
      "cell_type": "code",
      "metadata": {
        "colab": {
          "base_uri": "https://localhost:8080/"
        },
        "id": "UT-x8MojpMz-",
        "outputId": "156edf35-5b8f-477b-9909-9b6212b1ebbb"
      },
      "source": [
        "# Subtraction Operator\n",
        "one = 1\n",
        "two = 2\n",
        "minus = one - two\n",
        "print(minus)"
      ],
      "execution_count": null,
      "outputs": [
        {
          "output_type": "stream",
          "text": [
            "-1\n"
          ],
          "name": "stdout"
        }
      ]
    },
    {
      "cell_type": "code",
      "metadata": {
        "colab": {
          "base_uri": "https://localhost:8080/"
        },
        "id": "Kw_mRRvypUjg",
        "outputId": "02dafc3e-ffd8-40c4-ebda-4a96c97a2817"
      },
      "source": [
        "# Multiplication Operator\n",
        "one = 1\n",
        "two = 2\n",
        "two_a = one * two\n",
        "print(two_a)"
      ],
      "execution_count": null,
      "outputs": [
        {
          "output_type": "stream",
          "text": [
            "2\n"
          ],
          "name": "stdout"
        }
      ]
    },
    {
      "cell_type": "code",
      "metadata": {
        "colab": {
          "base_uri": "https://localhost:8080/"
        },
        "id": "bolbEYfMpmnx",
        "outputId": "ece3249c-a0d6-4219-997f-1c13103b5500"
      },
      "source": [
        "# Division Operator\n",
        "one = 1\n",
        "two = 2\n",
        "two_a = one / two\n",
        "print(two_a)"
      ],
      "execution_count": null,
      "outputs": [
        {
          "output_type": "stream",
          "text": [
            "0.5\n"
          ],
          "name": "stdout"
        }
      ]
    },
    {
      "cell_type": "code",
      "metadata": {
        "colab": {
          "base_uri": "https://localhost:8080/"
        },
        "id": "2Q3FxtDbptk-",
        "outputId": "7e38c589-c324-499c-8237-beff21c00bd5"
      },
      "source": [
        "# Modulus Operator\n",
        "one = 1\n",
        "two = 2\n",
        "two_a = one % two\n",
        "print(two_a)"
      ],
      "execution_count": null,
      "outputs": [
        {
          "output_type": "stream",
          "text": [
            "1\n"
          ],
          "name": "stdout"
        }
      ]
    },
    {
      "cell_type": "code",
      "metadata": {
        "colab": {
          "base_uri": "https://localhost:8080/"
        },
        "id": "0OnNkUVopzrw",
        "outputId": "d7ad63b0-80bd-4944-e887-14311d1d3ebf"
      },
      "source": [
        "# Exponentiation Operator\n",
        "one = 1\n",
        "two = 2\n",
        "two_a = one ** two\n",
        "print(two_a)"
      ],
      "execution_count": null,
      "outputs": [
        {
          "output_type": "stream",
          "text": [
            "1\n"
          ],
          "name": "stdout"
        }
      ]
    },
    {
      "cell_type": "markdown",
      "metadata": {
        "id": "1GeNzU7KqBxr"
      },
      "source": [
        "**Comparision Operators**\n",
        "\n",
        "---\n",
        "\n",
        "\n",
        "\n",
        "---\n",
        "\n"
      ]
    },
    {
      "cell_type": "code",
      "metadata": {
        "colab": {
          "base_uri": "https://localhost:8080/"
        },
        "id": "jY7toiJRqA7v",
        "outputId": "656171cf-882a-4d10-e463-a1435f5d2b6e"
      },
      "source": [
        "a = 1\n",
        "b = 2\n",
        "print(\"A = 1 | B = 2\")\n",
        "print(\"A > B \" + str(one > two))\n",
        "print(\"A < B \" + str(one < two))\n",
        "print(\"A == B \" + str(one == two))\n",
        "print(\"A != B \" + str(one != two))\n",
        "print(\"A >= B \" + str(one >= two))\n",
        "print(\"A <= B \" + str(one <= two))"
      ],
      "execution_count": null,
      "outputs": [
        {
          "output_type": "stream",
          "text": [
            "A = 1 | B = 2\n",
            "A > B False\n",
            "A < B True\n",
            "A == B False\n",
            "A != B True\n",
            "A >= B False\n",
            "A <= B True\n"
          ],
          "name": "stdout"
        }
      ]
    },
    {
      "cell_type": "markdown",
      "metadata": {
        "id": "Crj6o2pMrJSa"
      },
      "source": [
        "**Bitwise Operators**\n",
        "\n",
        "---\n",
        "\n",
        "\n",
        "\n",
        "---\n",
        "\n",
        "\n",
        "\n"
      ]
    },
    {
      "cell_type": "code",
      "metadata": {
        "colab": {
          "base_uri": "https://localhost:8080/"
        },
        "id": "pyTIC9AXrbUS",
        "outputId": "fed8e43c-ed6d-44e5-a215-f5e0c41b0506"
      },
      "source": [
        "a = 1\n",
        "b = 2\n",
        "# Print bitwise AND operation\n",
        "print(a & b)\n",
        " \n",
        "# Print bitwise OR operation\n",
        "print(a | b)\n",
        " \n",
        "# Print bitwise NOT operation\n",
        "print(~a)\n",
        " \n",
        "# print bitwise XOR operation\n",
        "print(a ^ b)\n",
        " \n",
        "# print bitwise right shift operation\n",
        "print(a >> 2)\n",
        " \n",
        "# print bitwise left shift operation\n",
        "print(a << 2)"
      ],
      "execution_count": null,
      "outputs": [
        {
          "output_type": "stream",
          "text": [
            "0\n",
            "3\n",
            "-2\n",
            "3\n",
            "0\n",
            "4\n"
          ],
          "name": "stdout"
        }
      ]
    },
    {
      "cell_type": "markdown",
      "metadata": {
        "id": "dMmvVby-ryH3"
      },
      "source": [
        "**Assignment Operators**\n",
        "\n",
        "---\n",
        "\n",
        "\n",
        "\n",
        "---\n",
        "\n"
      ]
    },
    {
      "cell_type": "code",
      "metadata": {
        "colab": {
          "base_uri": "https://localhost:8080/"
        },
        "id": "DqhjMGfar0tS",
        "outputId": "441d01dc-93a4-49d5-e6b1-5d92520c359d"
      },
      "source": [
        "# \"\"  =  \"\"  assigns value to variables \n",
        "a = 1\n",
        "print(a)\n",
        "a = 2\n",
        "print(a)\n",
        "\n",
        "a += 1\n",
        "# same as a-- or --a\n",
        "print(\"adds one to value += \" + str(a)) \n",
        "\n",
        "# SAME FOR MULTIPLY Subtract \n"
      ],
      "execution_count": null,
      "outputs": [
        {
          "output_type": "stream",
          "text": [
            "1\n",
            "2\n",
            "adds one to value += 3\n"
          ],
          "name": "stdout"
        }
      ]
    },
    {
      "cell_type": "markdown",
      "metadata": {
        "id": "bxEm9Ph3s3xY"
      },
      "source": [
        "**Identity** **Operators**\n",
        "\n",
        "---\n",
        "\n",
        "\n",
        "\n",
        "---\n",
        "\n",
        "\n"
      ]
    },
    {
      "cell_type": "code",
      "metadata": {
        "colab": {
          "base_uri": "https://localhost:8080/"
        },
        "id": "zl7Fb659s_tn",
        "outputId": "5c4006da-6dc1-4933-f910-7181125edf75"
      },
      "source": [
        "one = 1\n",
        "two = 2\n",
        "c = one\n",
        " \n",
        "print(one is not two)\n",
        "print(one is c)"
      ],
      "execution_count": null,
      "outputs": [
        {
          "output_type": "stream",
          "text": [
            "True\n",
            "True\n"
          ],
          "name": "stdout"
        }
      ]
    },
    {
      "cell_type": "markdown",
      "metadata": {
        "id": "gyjxPS0BtQ8A"
      },
      "source": [
        "**Membership** **Operators**\n",
        "\n",
        "---\n",
        "\n",
        "\n",
        "\n",
        "---\n",
        "\n",
        "\n"
      ]
    },
    {
      "cell_type": "code",
      "metadata": {
        "colab": {
          "base_uri": "https://localhost:8080/"
        },
        "id": "s4on6BUgtTq0",
        "outputId": "e2d6422f-b29e-4fe2-c83f-a69bd7dac221"
      },
      "source": [
        "one = 1\n",
        "two = 2\n",
        "list = [1, 2, 3, 4, 5]\n",
        " \n",
        "if (one not in list):\n",
        "    print(\"one is not in list\")\n",
        "else:\n",
        "    print(\"one is in list\")\n",
        " \n",
        "if (two in list):\n",
        "    print(\"two is present in given list\")\n",
        "else:\n",
        "    print(\"two is NOT present in given list\")"
      ],
      "execution_count": null,
      "outputs": [
        {
          "output_type": "stream",
          "text": [
            "one is in list\n",
            "two is present in given list\n"
          ],
          "name": "stdout"
        }
      ]
    },
    {
      "cell_type": "markdown",
      "metadata": {
        "id": "WFgbtTtTtsuq"
      },
      "source": [
        "**Precedence and Associativity of Operators**\n",
        "\n",
        "---\n",
        "\n",
        "\n",
        "\n",
        "---\n",
        "\n"
      ]
    },
    {
      "cell_type": "code",
      "metadata": {
        "id": "FlrYiI-ItvA6",
        "colab": {
          "base_uri": "https://localhost:8080/"
        },
        "outputId": "f9199946-6362-4df8-a2b8-515645fe4bd0"
      },
      "source": [
        "# Precedence of '+' & '*'\n",
        "expr = 10 + 20 * 30\n",
        "print(expr)\n",
        " \n",
        "# Precedence of 'or' & 'and'\n",
        "name = \"Vaibhav\"\n",
        "age = 20\n",
        " \n",
        "if name == \"Vaibhav\" or name == \"Nice\" and age >= 21:\n",
        "    print(\"Hello! Welcome.\")\n",
        "else:\n",
        "    print(\"Good Bye!!\")"
      ],
      "execution_count": null,
      "outputs": [
        {
          "output_type": "stream",
          "name": "stdout",
          "text": [
            "610\n",
            "Hello! Welcome.\n"
          ]
        }
      ]
    },
    {
      "cell_type": "markdown",
      "metadata": {
        "id": "AVgZGB5nNdLX"
      },
      "source": [
        "**Operator Assiciativity**\n",
        "\n",
        "---\n",
        "\n",
        "\n",
        "\n",
        "---\n",
        "\n"
      ]
    },
    {
      "cell_type": "code",
      "metadata": {
        "colab": {
          "base_uri": "https://localhost:8080/"
        },
        "id": "c3kipNIfNfcm",
        "outputId": "1ff5c778-f88d-440f-80a5-21d8ce85fd67"
      },
      "source": [
        "# Left-right associativity\n",
        "# 100 / 10 * 10 is calculated as\n",
        "# (100 / 10) * 10 and not\n",
        "# as 100 / (10 * 10)\n",
        "print(100 / 10 * 10)\n",
        " \n",
        "# Left-right associativity\n",
        "# 5 - 2 + 3 is calculated as\n",
        "# (5 - 2) + 3 and not\n",
        "# as 5 - (2 + 3)\n",
        "print(5 - 2 + 3)\n",
        " \n",
        "# left-right associativity\n",
        "print(5 - (2 + 3))\n",
        " \n",
        "# right-left associativity\n",
        "# 2 ** 3 ** 2 is calculated as\n",
        "# 2 ** (3 ** 2) and not\n",
        "# as (2 ** 3) ** 2\n",
        "print(2 ** 3 ** 2)"
      ],
      "execution_count": null,
      "outputs": [
        {
          "output_type": "stream",
          "name": "stdout",
          "text": [
            "100.0\n",
            "6\n",
            "0\n",
            "512\n"
          ]
        }
      ]
    }
  ]
}