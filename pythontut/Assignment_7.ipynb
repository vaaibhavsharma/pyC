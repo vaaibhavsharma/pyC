{
  "nbformat": 4,
  "nbformat_minor": 0,
  "metadata": {
    "colab": {
      "name": "Assignment 7.ipynb",
      "provenance": [],
      "collapsed_sections": [],
      "authorship_tag": "ABX9TyOBTv2igpRvyUxGZxYqV1oh",
      "include_colab_link": true
    },
    "kernelspec": {
      "name": "python3",
      "display_name": "Python 3"
    },
    "language_info": {
      "name": "python"
    }
  },
  "cells": [
    {
      "cell_type": "markdown",
      "metadata": {
        "id": "view-in-github",
        "colab_type": "text"
      },
      "source": [
        "<a href=\"https://colab.research.google.com/github/vaaibhavsharma/pyCJ/blob/main/pythontut/Assignment_7.ipynb\" target=\"_parent\"><img src=\"https://colab.research.google.com/assets/colab-badge.svg\" alt=\"Open In Colab\"/></a>"
      ]
    },
    {
      "cell_type": "code",
      "metadata": {
        "colab": {
          "base_uri": "https://localhost:8080/"
        },
        "id": "TzSIw3X_8o4Q",
        "outputId": "3f268e76-253c-4e4e-85f7-0a57f86942f8"
      },
      "source": [
        "# Write a Python program to check if difference between sum of odd digits and sum of even digits is 0 or not.\n",
        "\n",
        "digit = 1243\n",
        "if digit % 11 == 0:\n",
        "  print(\"Yes\")\n",
        "else:\n",
        "  print(\"No\")\n"
      ],
      "execution_count": 6,
      "outputs": [
        {
          "output_type": "stream",
          "name": "stdout",
          "text": [
            "Yes\n"
          ]
        }
      ]
    },
    {
      "cell_type": "code",
      "metadata": {
        "colab": {
          "base_uri": "https://localhost:8080/"
        },
        "id": "WXCPXznZASDo",
        "outputId": "80b8b97d-07b4-482c-b9c1-1d5a7daa445b"
      },
      "source": [
        "# Write a python Program to find sum of even factors of a number.\n",
        "\n",
        "digit = 8\n",
        "sum = 0 \n",
        "for i in range(1,digit+1):\n",
        "  if digit % i == 0:\n",
        "    sum+=i\n",
        "\n",
        "print(sum)"
      ],
      "execution_count": 11,
      "outputs": [
        {
          "output_type": "stream",
          "name": "stdout",
          "text": [
            "15\n"
          ]
        }
      ]
    },
    {
      "cell_type": "code",
      "metadata": {
        "colab": {
          "base_uri": "https://localhost:8080/"
        },
        "id": "r6qHDjv5Bc1K",
        "outputId": "c6dfa0c8-2b14-474b-b6d2-41cdd56b68d2"
      },
      "source": [
        " # Write a python Program to check if binary representation of a number is palindrome or not.\n",
        "\n",
        "x=int(input('Number: '))\n",
        "y=int(bin(x)[2:])\n",
        "out=int(str(y)[::-1]) \n",
        "\n",
        "if out==y:\n",
        "    print(\"yes\")\n",
        "else:\n",
        "    print(\"no\")"
      ],
      "execution_count": 16,
      "outputs": [
        {
          "output_type": "stream",
          "name": "stdout",
          "text": [
            "Number: 5\n",
            "yes\n"
          ]
        }
      ]
    }
  ]
}