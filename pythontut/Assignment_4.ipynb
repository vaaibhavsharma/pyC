{
  "nbformat": 4,
  "nbformat_minor": 0,
  "metadata": {
    "colab": {
      "name": "Assignment 4.ipynb",
      "provenance": [],
      "collapsed_sections": [],
      "authorship_tag": "ABX9TyMWAL8/VjqDC03mjHzNpmzh",
      "include_colab_link": true
    },
    "kernelspec": {
      "name": "python3",
      "display_name": "Python 3"
    },
    "language_info": {
      "name": "python"
    }
  },
  "cells": [
    {
      "cell_type": "markdown",
      "metadata": {
        "id": "view-in-github",
        "colab_type": "text"
      },
      "source": [
        "<a href=\"https://colab.research.google.com/github/vaaibhavsharma/pyCJ/blob/main/pythontut/Assignment_4.ipynb\" target=\"_parent\"><img src=\"https://colab.research.google.com/assets/colab-badge.svg\" alt=\"Open In Colab\"/></a>"
      ]
    },
    {
      "cell_type": "code",
      "metadata": {
        "colab": {
          "base_uri": "https://localhost:8080/"
        },
        "id": "Rj-eW3D1vuQe",
        "outputId": "19d76f14-587f-49be-ceb6-601585e0b55c"
      },
      "source": [
        "#Equilateral triangle.\n",
        "\n",
        "nice = list((map(int,input(\"Side \").split())))\n",
        "\n",
        "a, b, c = sorted(nice)\n",
        "\n",
        "if a==b==c:\n",
        "  print(\"Equilateral triangle.\")\n",
        "else:\n",
        "  print(\"No\")"
      ],
      "execution_count": null,
      "outputs": [
        {
          "output_type": "stream",
          "name": "stdout",
          "text": [
            "Side 2 2 2 \n",
            "Equilateral triangle.\n"
          ]
        }
      ]
    },
    {
      "cell_type": "code",
      "metadata": {
        "colab": {
          "base_uri": "https://localhost:8080/"
        },
        "id": "Q0YLzo1BwSip",
        "outputId": "5cd0a515-a0d4-4fcb-bc9c-28d28c15dd22"
      },
      "source": [
        "#Right Triangle\n",
        "nice = list((map(int,input(\"Side \").split())))\n",
        "a, b, c = sorted(nice)\n",
        "\n",
        "if a**2 + b**2 == c**2:\n",
        "  print(\"Right Traingle\")\n",
        "else:\n",
        "  print(\"No\")\n",
        "\n"
      ],
      "execution_count": null,
      "outputs": [
        {
          "output_type": "stream",
          "name": "stdout",
          "text": [
            "Side 5 4 3\n",
            "Right Traingle\n"
          ]
        }
      ]
    },
    {
      "cell_type": "code",
      "metadata": {
        "id": "KHiRAAS5x1NK",
        "colab": {
          "base_uri": "https://localhost:8080/"
        },
        "outputId": "7a8e8998-6364-406f-b18c-4e80bc1a6793"
      },
      "source": [
        "bIndex = 0.6\n",
        "iH = int(input(\"Height from which the ball droped: \"))\n",
        "bounce = int(input(\"Number of times the ball is allowed to continue bouncing: \"))\n",
        "totalD = 0\n",
        "for i in range(0, bounce):\n",
        "  totalD += iH + iH*bIndex\n",
        "  iH = iH*bIndex\n",
        "print(\"Total distance travelled by the ball: \" + str(totalD))"
      ],
      "execution_count": null,
      "outputs": [
        {
          "output_type": "stream",
          "name": "stdout",
          "text": [
            "Height from which the ball droped: 10\n",
            "Number of times the ball is allowed to continue bouncing: 4\n",
            "Total distance travelled by the ball: 34.816\n"
          ]
        }
      ]
    },
    {
      "cell_type": "code",
      "metadata": {
        "id": "n_OE7tVE0UJz",
        "colab": {
          "base_uri": "https://localhost:8080/"
        },
        "outputId": "f75d6332-f0e0-42c8-c0f5-c0d3deef63ab"
      },
      "source": [
        "nOfOrganisms = int(input(\"Initial number of organisms: \"))\n",
        "ROG = int(input(\"The rate of growth: \"))\n",
        "nH = int(input(\"The number of hours it takes to achieve this rate: \"))\n",
        "nG = int(input(\"a number of hours during which the population grows: \"))\n",
        "\n",
        "ok = nOfOrganisms * ROG**int(nG/nH)\n",
        "\n",
        "print(ok)\n"
      ],
      "execution_count": 6,
      "outputs": [
        {
          "output_type": "stream",
          "name": "stdout",
          "text": [
            "Initial number of organisms: 500\n",
            "The rate of growth: 2\n",
            "The number of hours it takes to achieve this rate: 6\n",
            "a number of hours during which the population grows: 6\n",
            "1000\n"
          ]
        }
      ]
    }
  ]
}