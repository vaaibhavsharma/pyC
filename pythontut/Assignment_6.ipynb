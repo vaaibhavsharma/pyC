{
  "nbformat": 4,
  "nbformat_minor": 0,
  "metadata": {
    "colab": {
      "name": "Assignment 6.ipynb",
      "provenance": [],
      "collapsed_sections": [],
      "authorship_tag": "ABX9TyOTnIY8+r5natrUL3Cp0LaN",
      "include_colab_link": true
    },
    "kernelspec": {
      "name": "python3",
      "display_name": "Python 3"
    },
    "language_info": {
      "name": "python"
    }
  },
  "cells": [
    {
      "cell_type": "markdown",
      "metadata": {
        "id": "view-in-github",
        "colab_type": "text"
      },
      "source": [
        "<a href=\"https://colab.research.google.com/github/vaaibhavsharma/pyCJ/blob/main/pythontut/Assignment_6.ipynb\" target=\"_parent\"><img src=\"https://colab.research.google.com/assets/colab-badge.svg\" alt=\"Open In Colab\"/></a>"
      ]
    },
    {
      "cell_type": "code",
      "metadata": {
        "colab": {
          "base_uri": "https://localhost:8080/"
        },
        "id": "qXSyP2fiIvXn",
        "outputId": "d700f3f3-bf08-4aa6-c611-64bd99c582df"
      },
      "source": [
        "list1=[3, 'hello', 5, 2]\n",
        "list2=['three', 'hi', 'five', 'two']\n",
        "print(dict (zip (list1, list2)))"
      ],
      "execution_count": 1,
      "outputs": [
        {
          "output_type": "stream",
          "name": "stdout",
          "text": [
            "{3: 'three', 'hello': 'hi', 5: 'five', 2: 'two'}\n"
          ]
        }
      ]
    },
    {
      "cell_type": "code",
      "metadata": {
        "colab": {
          "base_uri": "https://localhost:8080/"
        },
        "id": "D5vFxykFI3hL",
        "outputId": "8146942b-2d17-4c86-f44d-1812d7af255d"
      },
      "source": [
        "a=[2,9,3,1,4,7]\n",
        "b=[3,5,7,2,1]\n",
        "print('Common elements are: ' + str(set(a).intersection(b)))"
      ],
      "execution_count": 2,
      "outputs": [
        {
          "output_type": "stream",
          "name": "stdout",
          "text": [
            "Common elements are: {1, 2, 3, 7}\n"
          ]
        }
      ]
    },
    {
      "cell_type": "code",
      "metadata": {
        "colab": {
          "base_uri": "https://localhost:8080/"
        },
        "id": "Hzwogx2QI6Xv",
        "outputId": "dd714a7c-d90f-45a0-fae6-7c2832af787b"
      },
      "source": [
        "x = (\"Blue\", \"Green\", \"Purple\")\n",
        "y = list(x)\n",
        "y[1] = \"Black\"\n",
        "x = tuple(y)\n",
        "print(x)"
      ],
      "execution_count": 3,
      "outputs": [
        {
          "output_type": "stream",
          "name": "stdout",
          "text": [
            "('Blue', 'Black', 'Purple')\n"
          ]
        }
      ]
    },
    {
      "cell_type": "code",
      "metadata": {
        "colab": {
          "base_uri": "https://localhost:8080/"
        },
        "id": "-BEqjg-QI745",
        "outputId": "e1c0692c-273b-4279-de08-8134d6e3d82f"
      },
      "source": [
        "x = (\"Blue\", \"Green\", \"Purple\", \"Yellow\", \"Red\")\n",
        "y = list(x)\n",
        "del y[1]\n",
        "x = tuple(y)\n",
        "print(x)"
      ],
      "execution_count": 4,
      "outputs": [
        {
          "output_type": "stream",
          "name": "stdout",
          "text": [
            "('Blue', 'Purple', 'Yellow', 'Red')\n"
          ]
        }
      ]
    }
  ]
}