{
  "nbformat": 4,
  "nbformat_minor": 0,
  "metadata": {
    "colab": {
      "name": "Assignment 5.ipynb",
      "provenance": [],
      "authorship_tag": "ABX9TyNedyWOHQ5kybUuygv3gXKj",
      "include_colab_link": true
    },
    "kernelspec": {
      "name": "python3",
      "display_name": "Python 3"
    },
    "language_info": {
      "name": "python"
    }
  },
  "cells": [
    {
      "cell_type": "markdown",
      "metadata": {
        "id": "view-in-github",
        "colab_type": "text"
      },
      "source": [
        "<a href=\"https://colab.research.google.com/github/vaaibhavsharma/pyCJ/blob/main/pythontut/Assignment_5.ipynb\" target=\"_parent\"><img src=\"https://colab.research.google.com/assets/colab-badge.svg\" alt=\"Open In Colab\"/></a>"
      ]
    },
    {
      "cell_type": "code",
      "metadata": {
        "colab": {
          "base_uri": "https://localhost:8080/"
        },
        "id": "QMJH_CPR3DQb",
        "outputId": "ab43f78b-8825-404b-a72b-11aa01ea41be"
      },
      "source": [
        "import math\n",
        "\n",
        "def fact(n):\n",
        "  fact = 1\n",
        "  for i in range(1,n+1):\n",
        "    fact = fact * i\n",
        "  return fact\n",
        "      \n",
        "n = int(input(\"Enter N: \"))\n",
        "sum = 0\n",
        "for i in range(1, n+1):\n",
        "  sum+=i/math.factorial(i)\n",
        "print(sum)\n"
      ],
      "execution_count": null,
      "outputs": [
        {
          "output_type": "stream",
          "name": "stdout",
          "text": [
            "Enter N: 5\n",
            "2.708333333333333\n"
          ]
        }
      ]
    },
    {
      "cell_type": "code",
      "metadata": {
        "colab": {
          "base_uri": "https://localhost:8080/"
        },
        "id": "UaAyTtae4LF3",
        "outputId": "45649ec0-140c-4ec8-dd99-5b6013433b86"
      },
      "source": [
        "letters = {\n",
        "    'A': [' *** ', '*   *', '*****', '*   *', '*   *'],\n",
        "    \n",
        "    'B': ['**** ', '*   *', '**** ', '*   *', '**** '],\n",
        "    'C': [' ****', '*    ', '*    ', '*    ', ' ****'],\n",
        "    'D': ['**** ', '*   *', '*   *', '*   *', '**** '],\n",
        "    'E': ['*****', '*    ', '*****', '*    ', '*****'],\n",
        "    'F': ['*****', '*    ', '***  ', '*    ', '*    '],\n",
        "    'G': [' ****', '*    ', '*  **', '*   *', ' ****'],\n",
        "    'H': ['*   *', '*   *', '*****', '*   *', '*   *'],\n",
        "    'I': ['*****', '  *  ', '  *  ', '  *  ', '*****'],\n",
        "    'J': ['*****', '    *', '    *', '*   *', ' *** '],\n",
        "    'K': ['*   *', '*  * ', '**   ', '*  * ', '*   *'],\n",
        "    'L': ['*    ', '*    ', '*    ', '*    ', '*****'],\n",
        "    'M': ['*   *', '** **', '* * *', '*   *', '*   *'],\n",
        "    'N': ['*   *', '**  *', '* * *', '*  **', '*   *'],\n",
        "    'O': [' *** ', '*   *', '*   *', '*   *', ' *** '],\n",
        "    'P': ['**** ', '*   *', '**** ', '*    ', '*    '],\n",
        "    'Q': [' *** ', '*   *', '*   *', '*  **', ' ** *'],\n",
        "    'R': ['**** ', '*   *', '**** ', '*  * ', '*   *'],\n",
        "    'S': [' ****', '*    ', '**** ', '    *', '**** '],\n",
        "    'T': ['*****', '  *  ', '  *  ', '  *  ', '  *  '],\n",
        "    'U': ['*   *', '*   *', '*   *', '*   *', ' *** '],\n",
        "    'V': ['*   *', '*   *', '*   *', ' * * ', '  *  '],\n",
        "    'W': ['*   *', '*   *', '* * *', '** **', '*   *'],\n",
        "    'X': ['*   *', ' * * ', '  *  ', ' * * ', '*   *'],\n",
        "    'Y': ['*   *', ' * * ', '  *  ', '  *  ', '  *  '],\n",
        "    'Z': ['*****', '   * ', '  *  ', ' *   ', '*****'],\n",
        "}\n",
        "\n",
        "string = input()\n",
        "\n",
        "#print(len(string))\n",
        "for i in range(5):\n",
        "\n",
        "    for word in range(len(string)):\n",
        "        if string[word] == ' ':\n",
        "          print(\"  \", end=\" \")\n",
        "        else:\n",
        "          current_word = string[word].upper()\n",
        "          #print(current_word)\n",
        "          if word == len(string)-1 :\n",
        "              print(letters[current_word][i])\n",
        "          else :\n",
        "              print(letters[current_word][i],end='  ')"
      ],
      "execution_count": null,
      "outputs": [
        {
          "output_type": "stream",
          "name": "stdout",
          "text": [
            "Vaibhav\n",
            "*   *   ***   *****  ****   *   *   ***   *   *\n",
            "*   *  *   *    *    *   *  *   *  *   *  *   *\n",
            "*   *  *****    *    ****   *****  *****  *   *\n",
            " * *   *   *    *    *   *  *   *  *   *   * * \n",
            "  *    *   *  *****  ****   *   *  *   *    *  \n"
          ]
        }
      ]
    },
    {
      "cell_type": "code",
      "metadata": {
        "colab": {
          "base_uri": "https://localhost:8080/"
        },
        "id": "53KiQusC6HJq",
        "outputId": "a579561e-f764-4554-d58f-c1a6b6594bfe"
      },
      "source": [
        "n = int(input())\n",
        "\n",
        "for i in range(0, n, 2):\n",
        "  print(i)"
      ],
      "execution_count": null,
      "outputs": [
        {
          "output_type": "stream",
          "name": "stdout",
          "text": [
            "5\n",
            "0\n",
            "2\n",
            "4\n"
          ]
        }
      ]
    },
    {
      "cell_type": "code",
      "metadata": {
        "colab": {
          "base_uri": "https://localhost:8080/"
        },
        "id": "Vvfn4NJR6lHa",
        "outputId": "115eb6c4-2c77-484e-d4df-58b3a7e6d62f"
      },
      "source": [
        "# MAP\n",
        "def starts_with_A(s):\n",
        "    return s[0] == \"A\"\n",
        "\n",
        "fruit = [\"Apple\", \"Banana\", \"Pear\", \"Apricot\", \"Orange\"]\n",
        "map_object = map(starts_with_A, fruit)\n",
        "\n",
        "print(list(map_object))\n",
        "\n",
        "start_with_a = [\"hello\" if x[0] == \"A\" else \"nice\" for x in fruit]\n",
        "print(start_with_a)\n",
        "\n"
      ],
      "execution_count": null,
      "outputs": [
        {
          "output_type": "stream",
          "name": "stdout",
          "text": [
            "[True, False, False, True, False]\n",
            "['hello', 'nice', 'nice', 'hello', 'nice']\n"
          ]
        }
      ]
    }
  ]
}