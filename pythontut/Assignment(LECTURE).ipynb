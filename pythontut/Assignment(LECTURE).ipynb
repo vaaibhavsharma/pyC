{
  "nbformat": 4,
  "nbformat_minor": 0,
  "metadata": {
    "colab": {
      "name": "Assignment(LECTURE).ipynb",
      "provenance": [],
      "authorship_tag": "ABX9TyP/YIdsBNHTUrt7jELUQ71N",
      "include_colab_link": true
    },
    "kernelspec": {
      "name": "python3",
      "display_name": "Python 3"
    },
    "language_info": {
      "name": "python"
    }
  },
  "cells": [
    {
      "cell_type": "markdown",
      "metadata": {
        "id": "view-in-github",
        "colab_type": "text"
      },
      "source": [
        "<a href=\"https://colab.research.google.com/github/vaaibhavsharma/pyCJ/blob/main/pythontut/Assignment(LECTURE).ipynb\" target=\"_parent\"><img src=\"https://colab.research.google.com/assets/colab-badge.svg\" alt=\"Open In Colab\"/></a>"
      ]
    },
    {
      "cell_type": "code",
      "metadata": {
        "id": "MPHqO75jNghb"
      },
      "source": [
        "# Linear Search\n",
        "def linearSearch(uList, n, nToSearch):\n",
        "  for i in range(n):\n",
        "    if uList[i] == nToSearch:\n",
        "      return True\n",
        "  return False\n",
        "\n",
        "uList = list(map(int, input(\"Enter List Items: \").split(\" \")))\n",
        "nTS = int(input(\"Number To search: \"))\n",
        "nList = len(uList)\n",
        "print(linearSearch(uList,nList, nTS))"
      ],
      "execution_count": null,
      "outputs": []
    },
    {
      "cell_type": "code",
      "metadata": {
        "id": "HwPc2T0HNrnF"
      },
      "source": [
        "# BINARY SEARCH \n",
        "\n",
        "def binarySearch(uList, s, e, n):\n",
        "  if e >= s:\n",
        "    mid =  s + (e-s) // 2\n",
        "    if uList[mid] == n:\n",
        "      return mid\n",
        "    elif uList[mid] > n:\n",
        "      return binarySearch(uList, s, mid - 1, n)\n",
        "    elif uList[mid] < n:\n",
        "      return binarySearch(uList, mid + 1, e, n)\n",
        "  else:\n",
        "    return -1\n",
        "\n",
        "uList = list(map(int, input(\"Enter List Items: \").split(\" \")))\n",
        "nTS = int(input(\"Number To search: \"))\n",
        "nList = len(uList)-1\n",
        "\n",
        "result = binarySearch(uList, 0, nList, nTS)\n",
        "if result != -1:\n",
        "  print(f'Found {nTS} POSITION = {result} ARRAY = {uList[result]}')\n"
      ],
      "execution_count": null,
      "outputs": []
    },
    {
      "cell_type": "code",
      "metadata": {
        "colab": {
          "base_uri": "https://localhost:8080/"
        },
        "id": "2VaTzXQCNv8O",
        "outputId": "03d650f9-cc15-400e-f1c7-1b0be13ea7d3"
      },
      "source": [
        "# Selection sort\n",
        "\n",
        "A = [44, 25, 62, 27, 91]\n",
        "for i in range(len(A)):\n",
        "    minimum = i\n",
        "    for j in range(i+1, len(A)):\n",
        "        if A[minimum] > A[j]:\n",
        "            minimum = j\n",
        "    #swap\n",
        "    A[minimum], A[i] = A[i], A[minimum]\n",
        "    \n",
        "print(A)"
      ],
      "execution_count": 10,
      "outputs": [
        {
          "output_type": "stream",
          "name": "stdout",
          "text": [
            "[25, 27, 44, 62, 91]\n"
          ]
        }
      ]
    },
    {
      "cell_type": "code",
      "metadata": {
        "colab": {
          "base_uri": "https://localhost:8080/"
        },
        "id": "erOQlEPmRoUD",
        "outputId": "9fccc05e-ac20-4481-b850-2e7c4d5a1cda"
      },
      "source": [
        "# Insertion sort\n",
        "arr = [12, 11, 13, 5, 6]\n",
        "\n",
        "for i in range(1, len(arr)):\n",
        "  cur = arr[i] #Current element\n",
        "  k = i-1\n",
        "  while k >= 0 and cur < arr[k] :\n",
        "    arr[k + 1] = arr[k]\n",
        "    k -= 1\n",
        "  arr[k + 1] = cur\n",
        "print(arr)"
      ],
      "execution_count": 12,
      "outputs": [
        {
          "output_type": "stream",
          "name": "stdout",
          "text": [
            "[5, 6, 11, 12, 13]\n"
          ]
        }
      ]
    },
    {
      "cell_type": "code",
      "metadata": {
        "colab": {
          "base_uri": "https://localhost:8080/"
        },
        "id": "KTCSoot6YwUh",
        "outputId": "d6be4d37-4031-4e6a-c753-550a8e6dbe15"
      },
      "source": [
        "# Merge Sort\n",
        "\n",
        "array = [6, 5, 12, 10, 9, 1]\n",
        "\n",
        "def mergeSort(array):\n",
        "    if len(array) > 1:\n",
        "        r = len(array)//2\n",
        "        L = array[:r]\n",
        "        M = array[r:]\n",
        "        mergeSort(L)\n",
        "        mergeSort(M)\n",
        "\n",
        "        i = j = k = 0\n",
        "\n",
        "        while i < len(L) and j < len(M):\n",
        "            if L[i] < M[j]:\n",
        "                array[k] = L[i]\n",
        "                i += 1\n",
        "            else:\n",
        "                array[k] = M[j]\n",
        "                j += 1\n",
        "            k += 1\n",
        "\n",
        "        while i < len(L):\n",
        "            array[k] = L[i]\n",
        "            i += 1\n",
        "            k += 1\n",
        "\n",
        "        while j < len(M):\n",
        "            array[k] = M[j]\n",
        "            j += 1\n",
        "            k += 1\n",
        "\n",
        "print(\"Sorted array is: \")\n",
        "mergeSort(array)\n",
        "print(array)\n"
      ],
      "execution_count": 19,
      "outputs": [
        {
          "output_type": "stream",
          "name": "stdout",
          "text": [
            "Sorted array is: \n",
            "[1, 5, 6, 9, 10, 12]\n"
          ]
        }
      ]
    }
  ]
}