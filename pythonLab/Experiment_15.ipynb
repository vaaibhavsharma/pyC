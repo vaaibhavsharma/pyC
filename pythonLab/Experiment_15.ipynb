{
  "nbformat": 4,
  "nbformat_minor": 0,
  "metadata": {
    "colab": {
      "name": "Experiment 15.ipynb",
      "provenance": [],
      "authorship_tag": "ABX9TyNURITXrWVSfORDy+zDWxxv",
      "include_colab_link": true
    },
    "kernelspec": {
      "name": "python3",
      "display_name": "Python 3"
    },
    "language_info": {
      "name": "python"
    }
  },
  "cells": [
    {
      "cell_type": "markdown",
      "metadata": {
        "id": "view-in-github",
        "colab_type": "text"
      },
      "source": [
        "<a href=\"https://colab.research.google.com/github/vaaibhavsharma/pyCJ/blob/main/pythonLab/Experiment_15.ipynb\" target=\"_parent\"><img src=\"https://colab.research.google.com/assets/colab-badge.svg\" alt=\"Open In Colab\"/></a>"
      ]
    },
    {
      "cell_type": "code",
      "metadata": {
        "colab": {
          "base_uri": "https://localhost:8080/"
        },
        "id": "nQ7aJjarJv82",
        "outputId": "6c22d6c8-6c0f-45f8-818f-1f3c633874fe"
      },
      "source": [
        "import numpy as np\n",
        "x = np.array([3, 7, 9, 4, 2])\n",
        "print(\"Original array: \" + str(x))\n",
        "x = x[::-1]\n",
        "print(\"Reversed array: \" + str(x))\n"
      ],
      "execution_count": 1,
      "outputs": [
        {
          "output_type": "stream",
          "name": "stdout",
          "text": [
            "Original array: [3 7 9 4 2]\n",
            "Reversed array: [2 4 9 7 3]\n"
          ]
        }
      ]
    },
    {
      "cell_type": "code",
      "metadata": {
        "colab": {
          "base_uri": "https://localhost:8080/"
        },
        "id": "RoGkiJyPJycl",
        "outputId": "2b0af6c9-d812-409d-bf96-19c8b669ab8a"
      },
      "source": [
        "import numpy as np\n",
        "a = np.array([[1, 7, 3], [5, 4, 9]])\n",
        "print('Shape = ' + str(a.shape))\n",
        "print('Type = ' + str(type(a)))\n",
        "print('Data type = ' + str(a.dtype ))"
      ],
      "execution_count": 5,
      "outputs": [
        {
          "output_type": "stream",
          "name": "stdout",
          "text": [
            "Shape = (2, 3)\n",
            "Type = <class 'numpy.ndarray'>\n",
            "Data type = int64\n"
          ]
        }
      ]
    },
    {
      "cell_type": "code",
      "metadata": {
        "colab": {
          "base_uri": "https://localhost:8080/"
        },
        "id": "zCLt7-yWJzpi",
        "outputId": "999e55e2-d727-4a8d-f52f-aab9fb8f8de1"
      },
      "source": [
        "import numpy as np\n",
        "x =  np.diagflat([1,1,1,1,1])\n",
        "print(x)"
      ],
      "execution_count": 2,
      "outputs": [
        {
          "output_type": "stream",
          "name": "stdout",
          "text": [
            "[[1 0 0 0 0]\n",
            " [0 1 0 0 0]\n",
            " [0 0 1 0 0]\n",
            " [0 0 0 1 0]\n",
            " [0 0 0 0 1]]\n"
          ]
        }
      ]
    },
    {
      "cell_type": "code",
      "metadata": {
        "colab": {
          "base_uri": "https://localhost:8080/"
        },
        "id": "VsdDNM2HJ1gt",
        "outputId": "7b630dd0-fab5-47e7-8285-4d593d89c10d"
      },
      "source": [
        "import numpy as np\n",
        "A = np.array([[7, 1, 9], [3, -1, 2], [-2, 1, 1]])\n",
        "B = np.array([[3, 3, 1], [5, -1, 3], [-7, 5, 1]])\n",
        "R= np.array([[0, 0, 0], [0, 0, 0], [0, 0, 0]])\n",
        "Sum=A+B\n",
        "Mul = A.dot(B)\n",
        "print('Sum: \\n'+ str(Sum))\n",
        "print('Multiplication: \\n'+ str(Mul))"
      ],
      "execution_count": 6,
      "outputs": [
        {
          "output_type": "stream",
          "name": "stdout",
          "text": [
            "Sum: \n",
            "[[10  4 10]\n",
            " [ 8 -2  5]\n",
            " [-9  6  2]]\n",
            "Multiplication: \n",
            "[[-37  65  19]\n",
            " [-10  20   2]\n",
            " [ -8  -2   2]]\n"
          ]
        }
      ]
    },
    {
      "cell_type": "code",
      "metadata": {
        "colab": {
          "base_uri": "https://localhost:8080/"
        },
        "id": "LvKpY75fJ4NA",
        "outputId": "dce249d0-83c0-4a13-b1be-0babb771e9e9"
      },
      "source": [
        "import numpy as np \n",
        "a = np.array([0,30,45,60,90]) \n",
        "sin = np.sin(a*np.pi/180) \n",
        "cos = np.cos(a*np.pi/180)\n",
        "tan = np.tan(a*np.pi/180)\n",
        "print('Array containing sine values:' + str(sin) )\n",
        "print('')\n",
        "print('Array containing cos values:' + str(cos) )\n",
        "print('')\n",
        "print('Array containing tan values:' + str(tan) )"
      ],
      "execution_count": 3,
      "outputs": [
        {
          "output_type": "stream",
          "name": "stdout",
          "text": [
            "Array containing sine values:[0.         0.5        0.70710678 0.8660254  1.        ]\n",
            "\n",
            "Array containing cos values:[1.00000000e+00 8.66025404e-01 7.07106781e-01 5.00000000e-01\n",
            " 6.12323400e-17]\n",
            "\n",
            "Array containing tan values:[0.00000000e+00 5.77350269e-01 1.00000000e+00 1.73205081e+00\n",
            " 1.63312394e+16]\n"
          ]
        }
      ]
    },
    {
      "cell_type": "code",
      "metadata": {
        "colab": {
          "base_uri": "https://localhost:8080/"
        },
        "id": "nglo1YXVJ59o",
        "outputId": "730871e6-cb34-4091-a255-09ce1a493181"
      },
      "source": [
        "import numpy as np\n",
        "a = np.array([4, 3, 5, 1])\n",
        "print(\"Original array: \"+ str(a))\n",
        "b = np.exp(a)\n",
        "print(\"e^x:\"+ str(b))"
      ],
      "execution_count": 4,
      "outputs": [
        {
          "output_type": "stream",
          "name": "stdout",
          "text": [
            "Original array: [4 3 5 1]\n",
            "e^x:[ 54.59815003  20.08553692 148.4131591    2.71828183]\n"
          ]
        }
      ]
    }
  ]
}