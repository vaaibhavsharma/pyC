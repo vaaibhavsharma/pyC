{
  "nbformat": 4,
  "nbformat_minor": 0,
  "metadata": {
    "colab": {
      "name": "Experiment 4.ipynb",
      "provenance": []
    },
    "kernelspec": {
      "name": "python3",
      "display_name": "Python 3"
    },
    "language_info": {
      "name": "python"
    }
  },
  "cells": [
    {
      "cell_type": "code",
      "metadata": {
        "id": "mPDb4NuG5AyW"
      },
      "source": [
        "function = input(\"Enter function name: \")\n",
        "print(help(function))"
      ],
      "execution_count": null,
      "outputs": []
    }
  ]
}