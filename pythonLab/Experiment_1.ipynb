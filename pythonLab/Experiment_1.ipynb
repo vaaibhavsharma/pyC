{
  "nbformat": 4,
  "nbformat_minor": 0,
  "metadata": {
    "colab": {
      "name": "Experiment 1.ipynb",
      "provenance": []
    },
    "kernelspec": {
      "name": "python3",
      "display_name": "Python 3"
    },
    "language_info": {
      "name": "python"
    }
  },
  "cells": [
    {
      "cell_type": "code",
      "metadata": {
        "colab": {
          "base_uri": "https://localhost:8080/",
          "height": 35
        },
        "id": "LoRPR8T47e2e",
        "outputId": "be5ab24b-0806-4817-92ef-ce129f1c6019"
      },
      "source": [
        "import sys\n",
        "sys.version"
      ],
      "execution_count": null,
      "outputs": [
        {
          "output_type": "execute_result",
          "data": {
            "application/vnd.google.colaboratory.intrinsic+json": {
              "type": "string"
            },
            "text/plain": [
              "'3.7.11 (default, Jul  3 2021, 18:01:19) \\n[GCC 7.5.0]'"
            ]
          },
          "metadata": {},
          "execution_count": 3
        }
      ]
    },
    {
      "cell_type": "code",
      "metadata": {
        "colab": {
          "base_uri": "https://localhost:8080/"
        },
        "id": "WCd5kVOC78C0",
        "outputId": "d0083aa1-ccf1-4722-9649-2b58975fe443"
      },
      "source": [
        "import math\n",
        "r = int(input(\"Radius: \"))\n",
        "area  = math.pi*r**2\n",
        "print(area)"
      ],
      "execution_count": null,
      "outputs": [
        {
          "output_type": "stream",
          "text": [
            "Radius: 5\n",
            "78.53981633974483\n"
          ],
          "name": "stdout"
        }
      ]
    }
  ]
}