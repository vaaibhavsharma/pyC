{
  "nbformat": 4,
  "nbformat_minor": 0,
  "metadata": {
    "colab": {
      "name": "Experiment 13.ipynb",
      "provenance": [],
      "collapsed_sections": [],
      "authorship_tag": "ABX9TyM3s0ucYzK+Aub5VOd4yIFT",
      "include_colab_link": true
    },
    "kernelspec": {
      "name": "python3",
      "display_name": "Python 3"
    },
    "language_info": {
      "name": "python"
    }
  },
  "cells": [
    {
      "cell_type": "markdown",
      "metadata": {
        "id": "view-in-github",
        "colab_type": "text"
      },
      "source": [
        "<a href=\"https://colab.research.google.com/github/vaaibhavsharma/pyCJ/blob/main/pythonLab/Experiment_13.ipynb\" target=\"_parent\"><img src=\"https://colab.research.google.com/assets/colab-badge.svg\" alt=\"Open In Colab\"/></a>"
      ]
    },
    {
      "cell_type": "code",
      "metadata": {
        "colab": {
          "base_uri": "https://localhost:8080/"
        },
        "id": "-veYeTFEMImf",
        "outputId": "89d10798-d786-4a9f-95a6-9efca87083e0"
      },
      "source": [
        "N = 2\n",
        "A = [[1,1], [1,1]]\n",
        "B = [[2,2], [2,2]]\n",
        "C = [[0,0], [0,0]]\n",
        "for i in range(2):\n",
        "  for j in range(2):\n",
        "    C[i][j] = A[i][j] + B[i][j]\n",
        "\n",
        "print(C)"
      ],
      "execution_count": null,
      "outputs": [
        {
          "output_type": "stream",
          "name": "stdout",
          "text": [
            "[[3, 3], [3, 3]]\n"
          ]
        }
      ]
    }
  ]
}