{
  "nbformat": 4,
  "nbformat_minor": 0,
  "metadata": {
    "colab": {
      "name": "Experiment 2.ipynb",
      "provenance": []
    },
    "kernelspec": {
      "name": "python3",
      "display_name": "Python 3"
    },
    "language_info": {
      "name": "python"
    }
  },
  "cells": [
    {
      "cell_type": "code",
      "metadata": {
        "colab": {
          "base_uri": "https://localhost:8080/"
        },
        "id": "NSliA81jw0hb",
        "outputId": "a7f0a8d3-dbc3-40d2-d67a-ecad28127822"
      },
      "source": [
        "from datetime import datetime as time\n",
        "import pytz\n",
        "india = pytz.timezone('Asia/Kolkata')\n",
        "time = time.now(india)\n",
        "print(\"Time: \"+ time.strftime(\"%H:%M:%S\"))\n",
        "print(\"DATE: \" + time.strftime(\"%d-%m-%Y\"))\n",
        "print(\"TIME: \" + time.strftime(\"%X\"))\n",
        "print(\"DATE: \" + time.strftime(\"%x\"))"
      ],
      "execution_count": null,
      "outputs": [
        {
          "output_type": "stream",
          "text": [
            "Time: 15:40:04\n",
            "DATE: 25-08-2021\n",
            "TIME: 15:40:04\n",
            "DATE: 08/25/21\n"
          ],
          "name": "stdout"
        }
      ]
    },
    {
      "cell_type": "code",
      "metadata": {
        "colab": {
          "base_uri": "https://localhost:8080/"
        },
        "id": "VJruCDgk58vx",
        "outputId": "bb22ab6d-d86e-4bc0-d707-e13048193d76"
      },
      "source": [
        "import math\n",
        "r = int(input(\"Radius: \"))\n",
        "cir  = 2*math.pi*r\n",
        "print(area)"
      ],
      "execution_count": null,
      "outputs": [
        {
          "output_type": "stream",
          "text": [
            "Radius: 5\n",
            "31.41592653589793\n"
          ],
          "name": "stdout"
        }
      ]
    }
  ]
}