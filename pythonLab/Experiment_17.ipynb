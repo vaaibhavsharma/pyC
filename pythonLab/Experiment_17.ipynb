{
  "nbformat": 4,
  "nbformat_minor": 0,
  "metadata": {
    "colab": {
      "name": "Experiment 17.ipynb",
      "provenance": [],
      "authorship_tag": "ABX9TyMu03uK4yIPynv+iceJGVhD",
      "include_colab_link": true
    },
    "kernelspec": {
      "name": "python3",
      "display_name": "Python 3"
    },
    "language_info": {
      "name": "python"
    }
  },
  "cells": [
    {
      "cell_type": "markdown",
      "metadata": {
        "id": "view-in-github",
        "colab_type": "text"
      },
      "source": [
        "<a href=\"https://colab.research.google.com/github/vaaibhavsharma/pyCJ/blob/main/pythonLab/Experiment_17.ipynb\" target=\"_parent\"><img src=\"https://colab.research.google.com/assets/colab-badge.svg\" alt=\"Open In Colab\"/></a>"
      ]
    },
    {
      "cell_type": "code",
      "metadata": {
        "colab": {
          "base_uri": "https://localhost:8080/"
        },
        "id": "0DivlCHYy8KZ",
        "outputId": "a21f68a4-fddd-4c95-a3f7-9fab57364fd3"
      },
      "source": [
        "# BINARY SEARCH \n",
        "\n",
        "def binarySearch(uList, s, e, n):\n",
        "  if e >= s:\n",
        "    mid =  s + (e-s) // 2\n",
        "    if uList[mid] == n:\n",
        "      return mid\n",
        "    elif uList[mid] > n:\n",
        "      return binarySearch(uList, s, mid - 1, n)\n",
        "    elif uList[mid] < n:\n",
        "      return binarySearch(uList, mid + 1, e, n)\n",
        "  else:\n",
        "    return -1\n",
        "\n",
        "uList = list(map(int, input(\"Enter List Items: \").split(\" \")))\n",
        "nTS = int(input(\"Number To search: \"))\n",
        "nList = len(uList)-1\n",
        "\n",
        "result = binarySearch(uList, 0, nList, nTS)\n",
        "if result != -1:\n",
        "  print(f'Found {nTS} POSITION = {result} ARRAY = {uList[result]}')\n"
      ],
      "execution_count": null,
      "outputs": [
        {
          "output_type": "stream",
          "name": "stdout",
          "text": [
            "Enter List Items: 1 2 3 4 5\n",
            "Number To search: 5\n",
            "Found 5 POSITION = 4 ARRAY = 5\n"
          ]
        }
      ]
    }
  ]
}