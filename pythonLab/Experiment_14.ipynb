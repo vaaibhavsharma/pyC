{
  "nbformat": 4,
  "nbformat_minor": 0,
  "metadata": {
    "colab": {
      "name": "Experiment 14.ipynb",
      "provenance": [],
      "collapsed_sections": [],
      "authorship_tag": "ABX9TyN7DyQiVSrsjlrc5HL6M6EP",
      "include_colab_link": true
    },
    "kernelspec": {
      "name": "python3",
      "display_name": "Python 3"
    },
    "language_info": {
      "name": "python"
    }
  },
  "cells": [
    {
      "cell_type": "markdown",
      "metadata": {
        "id": "view-in-github",
        "colab_type": "text"
      },
      "source": [
        "<a href=\"https://colab.research.google.com/github/vaaibhavsharma/pyCJ/blob/main/pythonLab/Experiment_14.ipynb\" target=\"_parent\"><img src=\"https://colab.research.google.com/assets/colab-badge.svg\" alt=\"Open In Colab\"/></a>"
      ]
    },
    {
      "cell_type": "code",
      "metadata": {
        "colab": {
          "base_uri": "https://localhost:8080/"
        },
        "id": "Xtqsr-fgK8YW",
        "outputId": "d33c3d3f-ca3b-45a1-de60-5c955691ef03"
      },
      "source": [
        "A = [[1,1], [1,1]]\n",
        "B = [[2,2], [2,2]]\n",
        "\n",
        "     \n",
        "result = [[0, 0], [0, 0]]\n",
        " \n",
        "for i in range(len(A)):\n",
        "    for j in range(len(B[0])):\n",
        "        for k in range(len(B)):\n",
        "            result[i][j] += A[i][k] * B[k][j]\n",
        " \n",
        "print(result)"
      ],
      "execution_count": 1,
      "outputs": [
        {
          "output_type": "stream",
          "name": "stdout",
          "text": [
            "[[4, 4], [4, 4]]\n"
          ]
        }
      ]
    }
  ]
}