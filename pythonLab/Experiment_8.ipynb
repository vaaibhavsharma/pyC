{
  "nbformat": 4,
  "nbformat_minor": 0,
  "metadata": {
    "colab": {
      "name": "pylab8.ipynb",
      "provenance": [],
      "collapsed_sections": [],
      "include_colab_link": true
    },
    "kernelspec": {
      "name": "python3",
      "display_name": "Python 3"
    },
    "language_info": {
      "name": "python"
    }
  },
  "cells": [
    {
      "cell_type": "markdown",
      "metadata": {
        "id": "view-in-github",
        "colab_type": "text"
      },
      "source": [
        "<a href=\"https://colab.research.google.com/github/vaaibhavsharma/pyCJ/blob/main/pythonLab/Experiment_8.ipynb\" target=\"_parent\"><img src=\"https://colab.research.google.com/assets/colab-badge.svg\" alt=\"Open In Colab\"/></a>"
      ]
    },
    {
      "cell_type": "code",
      "metadata": {
        "colab": {
          "base_uri": "https://localhost:8080/"
        },
        "id": "jBgXDVB31qOC",
        "outputId": "9e57c809-0f25-4230-a06a-7093316c225b"
      },
      "source": [
        "a=int(input(print('Enter first integer: ')))\n",
        "b=int(input(print('Enter second integer: ')))\n",
        "sum=a+b\n",
        "if 15<sum<20:\n",
        "  print('the sum is 20')\n",
        "else:\n",
        "    print('sum is ' + str(sum))"
      ],
      "execution_count": null,
      "outputs": [
        {
          "output_type": "stream",
          "name": "stdout",
          "text": [
            "Enter first integer: \n",
            "20\n",
            "Enter second integer: \n",
            "20\n",
            "sum is 40\n"
          ]
        }
      ]
    },
    {
      "cell_type": "code",
      "metadata": {
        "colab": {
          "base_uri": "https://localhost:8080/"
        },
        "id": "i5DMr-OU4UfU",
        "outputId": "e98d2013-dc5e-4873-efbd-917d4fbb2da1"
      },
      "source": [
        "amount=float(input(\"Enter the amount: \"))\n",
        "intRate=float(input('Enter the interest rate: '))\n",
        "years=float(input('Enter the number of years: '))\n",
        "futureValue=amount+(amount*intRate*years)/100\n",
        "print('The calculated future value with simple interest is '+ str(round(futureValue,2)))"
      ],
      "execution_count": null,
      "outputs": [
        {
          "output_type": "stream",
          "name": "stdout",
          "text": [
            "Enter the amount: 10000\n",
            "Enter the interest rate: 3.5\n",
            "Enter the number of years: 7\n",
            "The calculated future value with simple interest is 12450.0\n"
          ]
        }
      ]
    },
    {
      "cell_type": "code",
      "metadata": {
        "colab": {
          "base_uri": "https://localhost:8080/"
        },
        "id": "3KK1Zz5y5fad",
        "outputId": "7fb346f0-0808-4b3c-8338-bbb9f9458505"
      },
      "source": [
        "amount=float(input(\"Enter the amount: \"))\n",
        "intRate=float(input('Enter the interest rate: '))\n",
        "years=float(input('Enter the number of years: '))\n",
        "futureValue=amount*pow((1+intRate/100),years)\n",
        "print('The calculated future value with Compound interest is: '+ str(round(futureValue,2)))"
      ],
      "execution_count": null,
      "outputs": [
        {
          "output_type": "stream",
          "name": "stdout",
          "text": [
            "Enter the amount: 10000\n",
            "Enter the interest rate: 3.5\n",
            "Enter the number of years: 7\n",
            "The calculated future value with Compound interest is: 12722.79\n"
          ]
        }
      ]
    }
  ]
}