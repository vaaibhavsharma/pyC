{
  "nbformat": 4,
  "nbformat_minor": 0,
  "metadata": {
    "colab": {
      "name": "Experiment 19.ipynb",
      "provenance": [],
      "authorship_tag": "ABX9TyPhovCXKpsQnPyCVbN8g5ae",
      "include_colab_link": true
    },
    "kernelspec": {
      "name": "python3",
      "display_name": "Python 3"
    },
    "language_info": {
      "name": "python"
    }
  },
  "cells": [
    {
      "cell_type": "markdown",
      "metadata": {
        "id": "view-in-github",
        "colab_type": "text"
      },
      "source": [
        "<a href=\"https://colab.research.google.com/github/vaaibhavsharma/pyCJ/blob/main/pythonLab/Experiment_19.ipynb\" target=\"_parent\"><img src=\"https://colab.research.google.com/assets/colab-badge.svg\" alt=\"Open In Colab\"/></a>"
      ]
    },
    {
      "cell_type": "code",
      "metadata": {
        "colab": {
          "base_uri": "https://localhost:8080/"
        },
        "id": "oluLxTAAWXcR",
        "outputId": "337ca127-20e7-40b0-9976-53458f4b1a95"
      },
      "source": [
        "def print_big_enough(numbers, num):\n",
        "  for i in numbers:\n",
        "    if i >=num:\n",
        "      print(i)\n",
        "\n",
        "listNumbers = [1,3,4,5,6,7,6,54,3,4,5,6,7,8,87,6,54]\n",
        "\n",
        "n  = 10\n",
        "\n",
        "print_big_enough(listNumbers, n)\n"
      ],
      "execution_count": 8,
      "outputs": [
        {
          "output_type": "stream",
          "name": "stdout",
          "text": [
            "54\n",
            "87\n",
            "54\n"
          ]
        }
      ]
    }
  ]
}