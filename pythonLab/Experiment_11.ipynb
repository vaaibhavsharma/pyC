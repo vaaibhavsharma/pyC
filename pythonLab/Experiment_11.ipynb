{
  "nbformat": 4,
  "nbformat_minor": 0,
  "metadata": {
    "colab": {
      "name": "Experiment 11.ipynb",
      "provenance": [],
      "authorship_tag": "ABX9TyPlJSoj4hhL0EYxOUH8gcEo",
      "include_colab_link": true
    },
    "kernelspec": {
      "name": "python3",
      "display_name": "Python 3"
    },
    "language_info": {
      "name": "python"
    }
  },
  "cells": [
    {
      "cell_type": "markdown",
      "metadata": {
        "id": "view-in-github",
        "colab_type": "text"
      },
      "source": [
        "<a href=\"https://colab.research.google.com/github/vaaibhavsharma/pyCJ/blob/main/pythonLab/Experiment_11.ipynb\" target=\"_parent\"><img src=\"https://colab.research.google.com/assets/colab-badge.svg\" alt=\"Open In Colab\"/></a>"
      ]
    },
    {
      "cell_type": "code",
      "metadata": {
        "colab": {
          "base_uri": "https://localhost:8080/"
        },
        "id": "0VysUbEU-VAy",
        "outputId": "68f58eec-d53f-4801-dde0-c33040e4c578"
      },
      "source": [
        "from array import *\n",
        "\n",
        "a = array('i', [1,2,3,4])\n",
        "\n",
        "a.buffer_info()"
      ],
      "execution_count": 1,
      "outputs": [
        {
          "output_type": "execute_result",
          "data": {
            "text/plain": [
              "(140386270502304, 4)"
            ]
          },
          "metadata": {},
          "execution_count": 1
        }
      ]
    }
  ]
}