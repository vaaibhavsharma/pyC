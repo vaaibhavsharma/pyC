{
  "nbformat": 4,
  "nbformat_minor": 0,
  "metadata": {
    "colab": {
      "name": "Experiment 16.ipynb",
      "provenance": [],
      "authorship_tag": "ABX9TyM3p3CadjH2vTAi9HkabqCH",
      "include_colab_link": true
    },
    "kernelspec": {
      "name": "python3",
      "display_name": "Python 3"
    },
    "language_info": {
      "name": "python"
    }
  },
  "cells": [
    {
      "cell_type": "markdown",
      "metadata": {
        "id": "view-in-github",
        "colab_type": "text"
      },
      "source": [
        "<a href=\"https://colab.research.google.com/github/vaaibhavsharma/pyCJ/blob/main/pythonLab/Experiment_16.ipynb\" target=\"_parent\"><img src=\"https://colab.research.google.com/assets/colab-badge.svg\" alt=\"Open In Colab\"/></a>"
      ]
    },
    {
      "cell_type": "code",
      "metadata": {
        "colab": {
          "base_uri": "https://localhost:8080/"
        },
        "id": "BtyTdlJOyHMm",
        "outputId": "4a0d2fce-7eda-453c-a2f4-0ec43e014111"
      },
      "source": [
        "def linearSearch(uList, n, nToSearch):\n",
        "  for i in range(n):\n",
        "    if uList[i] == nToSearch:\n",
        "      return True\n",
        "  return False\n",
        "\n",
        "uList = list(map(int, input(\"Enter List Items: \").split(\" \")))\n",
        "nTS = int(input(\"Number To search: \"))\n",
        "nList = len(uList)\n",
        "print(linearSearch(uList,nList, nTS))"
      ],
      "execution_count": null,
      "outputs": [
        {
          "output_type": "stream",
          "name": "stdout",
          "text": [
            "Enter List Items: 1 2 3 4 5\n",
            "Number To search: 5\n",
            "True\n"
          ]
        }
      ]
    },
    {
      "cell_type": "code",
      "metadata": {
        "colab": {
          "base_uri": "https://localhost:8080/"
        },
        "id": "sT_eg8AKyJyN",
        "outputId": "47d0381b-d5a1-4a05-f32e-13524ac0f2f0"
      },
      "source": [
        "uList = list(map(int, input(\"Enter List Items: \").split(\" \")))\n",
        "nTS = int(input(\"Number To search: \"))\n",
        "nList = len(uList)\n",
        "flag = 0;\n",
        "for i in range(nList):\n",
        "    if uList[i] == nTS:\n",
        "      flag = 1\n",
        "      break\n",
        "if flag == 0:\n",
        "  print(\"False\")\n",
        "else:\n",
        "  print(\"Yes\")\n",
        "\n"
      ],
      "execution_count": null,
      "outputs": [
        {
          "output_type": "stream",
          "name": "stdout",
          "text": [
            "Enter List Items: 1 2 4 5 6\n",
            "Number To search: 3\n",
            "False\n"
          ]
        }
      ]
    }
  ]
}