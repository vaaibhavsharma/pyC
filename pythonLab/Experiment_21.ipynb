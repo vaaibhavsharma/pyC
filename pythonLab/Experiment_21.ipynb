{
  "nbformat": 4,
  "nbformat_minor": 0,
  "metadata": {
    "colab": {
      "name": "Experiment 21.ipynb",
      "provenance": [],
      "collapsed_sections": [],
      "authorship_tag": "ABX9TyOnqx/MJWLWCJZ7seQa4yYO",
      "include_colab_link": true
    },
    "kernelspec": {
      "name": "python3",
      "display_name": "Python 3"
    },
    "language_info": {
      "name": "python"
    }
  },
  "cells": [
    {
      "cell_type": "markdown",
      "metadata": {
        "id": "view-in-github",
        "colab_type": "text"
      },
      "source": [
        "<a href=\"https://colab.research.google.com/github/vaaibhavsharma/pyCJ/blob/main/pythonLab/Experiment_21.ipynb\" target=\"_parent\"><img src=\"https://colab.research.google.com/assets/colab-badge.svg\" alt=\"Open In Colab\"/></a>"
      ]
    },
    {
      "cell_type": "code",
      "metadata": {
        "colab": {
          "base_uri": "https://localhost:8080/"
        },
        "id": "gcFx0zqvN1Tm",
        "outputId": "af210379-019d-4124-ff69-fce449342e96"
      },
      "source": [
        "from datetime import date\n",
        "\n",
        "today = date.today()\n",
        "# DATE TODAY\n",
        "print(today)\n",
        "\n",
        "# DAY OF THE WEEK\n",
        "print(today.strftime(\"%A\"))"
      ],
      "execution_count": null,
      "outputs": [
        {
          "output_type": "stream",
          "name": "stdout",
          "text": [
            "2021-11-20\n",
            "Saturday\n"
          ]
        }
      ]
    },
    {
      "cell_type": "code",
      "metadata": {
        "colab": {
          "base_uri": "https://localhost:8080/"
        },
        "id": "CmbV1sq8O1HV",
        "outputId": "6c7ba60e-7308-4691-d69f-a783cd4e16ea"
      },
      "source": [
        "# BIRTHDAY\n",
        "\n",
        "from datetime import datetime\n",
        "year = int(input('Year: '))\n",
        "month = int(input('Month: '))\n",
        "day = int(input('Day: '))\n",
        "\n",
        "birthday = datetime(year,month,day)\n",
        "\n",
        "today = datetime.today()\n",
        "print(today.year - birthday.year - ((today.month, today.day) <\n",
        "         (birthday.month, birthday.day)))\n",
        "\n",
        "nextBirthday = datetime(( today.year + 1 if today.month >= birthday.month else today.year),birthday.month,birthday.day)\n",
        "\n",
        "print(nextBirthday - today)\n"
      ],
      "execution_count": null,
      "outputs": [
        {
          "output_type": "stream",
          "name": "stdout",
          "text": [
            "Year: 2003\n",
            "Month: 03\n",
            "Day: 01\n",
            "18\n",
            "100 days, 2:23:05.294284\n"
          ]
        }
      ]
    },
    {
      "cell_type": "code",
      "metadata": {
        "colab": {
          "base_uri": "https://localhost:8080/"
        },
        "id": "k2zV8VeuRuA1",
        "outputId": "d3ce1d16-c823-498e-acdc-3fe2a05a3988"
      },
      "source": [
        "# Double DAY \n",
        "\n",
        "from datetime import datetime\n",
        "\n",
        "yearOne = int(input('Year: '))\n",
        "monthOne = int(input('Month: '))\n",
        "dayOne = int(input('Day: '))\n",
        "\n",
        "``\n",
        "birthdayOne = datetime(yearOne, monthOne, dayOne)\n",
        "\n",
        "yearTwo = int(input('Year: '))\n",
        "monthTwo = int(input('Month: '))\n",
        "dayTwo = int(input('Day: '))\n",
        "\n",
        "birthdayTwo = datetime(yearTwo, monthTwo, dayTwo)\n",
        "\n",
        "print(birthdayTwo + (birthdayTwo - birthdayOne))"
      ],
      "execution_count": null,
      "outputs": [
        {
          "output_type": "stream",
          "name": "stdout",
          "text": [
            "Year: 2001\n",
            "Month: 7\n",
            "Day: 12\n",
            "Year: 2003\n",
            "Month: 3\n",
            "Day: 1\n",
            "2004-10-18 00:00:00\n"
          ]
        }
      ]
    },
    {
      "cell_type": "code",
      "metadata": {
        "colab": {
          "base_uri": "https://localhost:8080/"
        },
        "id": "qlVTVVeBXrDD",
        "outputId": "4dfcef81-a154-43c8-fa79-ad1f744a2c35"
      },
      "source": [
        "# Double DAY \n",
        "\n",
        "from datetime import datetime\n",
        "from datetime import timedelta\n",
        "yearOne = int(input('Year: '))\n",
        "monthOne = int(input('Month: '))\n",
        "dayOne = int(input('Day: '))\n",
        "2\n",
        "birthdayOne = datetime(yearOne, monthOne, dayOne)\n",
        "\n",
        "yearTwo = int(input('Year: '))\n",
        "monthTwo = int(input('Month: '))\n",
        "dayTwo = int(input('Day: '))\n",
        "\n",
        "birthdayTwo = datetime(yearTwo, monthTwo, dayTwo)\n",
        "\n",
        "ageDiff = birthdayTwo - birthdayOne\n",
        "p1 = int(ageDiff.days)\n",
        "p2 = 0\n",
        "n = int(input())\n",
        "while p2 * n != p1:\n",
        "  p2+=1\n",
        "  p1+=1\n",
        "daysMore = timedelta(days=p2)\n",
        "print(birthdayTwo + daysMore)"
      ],
      "execution_count": null,
      "outputs": [
        {
          "output_type": "stream",
          "name": "stdout",
          "text": [
            "Year: 2001\n",
            "Month: 07\n",
            "Day: 12\n",
            "Year: 2003\n",
            "Month: 03\n",
            "Day: 01\n",
            "2\n",
            "2004-10-18 00:00:00\n"
          ]
        }
      ]
    }
  ]
}