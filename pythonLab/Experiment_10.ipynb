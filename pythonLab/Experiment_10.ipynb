{
  "nbformat": 4,
  "nbformat_minor": 0,
  "metadata": {
    "colab": {
      "name": "Experiment 10.ipynb",
      "provenance": [],
      "authorship_tag": "ABX9TyMBNymH50R+OiwhxqO7PwX1",
      "include_colab_link": true
    },
    "kernelspec": {
      "name": "python3",
      "display_name": "Python 3"
    },
    "language_info": {
      "name": "python"
    }
  },
  "cells": [
    {
      "cell_type": "markdown",
      "metadata": {
        "id": "view-in-github",
        "colab_type": "text"
      },
      "source": [
        "<a href=\"https://colab.research.google.com/github/vaaibhavsharma/pyCJ/blob/main/pythonLab/Experiment_10.ipynb\" target=\"_parent\"><img src=\"https://colab.research.google.com/assets/colab-badge.svg\" alt=\"Open In Colab\"/></a>"
      ]
    },
    {
      "cell_type": "code",
      "metadata": {
        "colab": {
          "base_uri": "https://localhost:8080/"
        },
        "id": "U8FL2zksv6sA",
        "outputId": "e0a5d08c-820b-423c-a536-74d4db7d5944"
      },
      "source": [
        "string = \"Python\"\n",
        "\n",
        "for i in range(len(string)+1):\n",
        "  print(string[0:i])"
      ],
      "execution_count": 2,
      "outputs": [
        {
          "output_type": "stream",
          "name": "stdout",
          "text": [
            "\n",
            "P\n",
            "Py\n",
            "Pyt\n",
            "Pyth\n",
            "Pytho\n",
            "Python\n"
          ]
        }
      ]
    },
    {
      "cell_type": "code",
      "metadata": {
        "colab": {
          "base_uri": "https://localhost:8080/"
        },
        "id": "Ihg8mOceyF89",
        "outputId": "151ab30b-452e-484c-d203-0b8713039226"
      },
      "source": [
        "for i in range(1,11):\n",
        "  for j in range(1, i+1):\n",
        "    print(i*j, end=\" \")\n",
        "  print()"
      ],
      "execution_count": 6,
      "outputs": [
        {
          "output_type": "stream",
          "name": "stdout",
          "text": [
            "1 \n",
            "2 4 \n",
            "3 6 9 \n",
            "4 8 12 16 \n",
            "5 10 15 20 25 \n",
            "6 12 18 24 30 36 \n",
            "7 14 21 28 35 42 49 \n",
            "8 16 24 32 40 48 56 64 \n",
            "9 18 27 36 45 54 63 72 81 \n",
            "10 20 30 40 50 60 70 80 90 100 \n"
          ]
        }
      ]
    },
    {
      "cell_type": "code",
      "metadata": {
        "colab": {
          "base_uri": "https://localhost:8080/"
        },
        "id": "ybH-CVxdyql3",
        "outputId": "fe346bd1-5722-43a3-b2e5-6cd54e1f9d82"
      },
      "source": [
        "for i in range(0,7):\n",
        "  for j in range(0, i+1):\n",
        "    print(i*j, end=\"  \")\n",
        "  print()"
      ],
      "execution_count": 9,
      "outputs": [
        {
          "output_type": "stream",
          "name": "stdout",
          "text": [
            "0  \n",
            "0  1  \n",
            "0  2  4  \n",
            "0  3  6  9  \n",
            "0  4  8  12  16  \n",
            "0  5  10  15  20  25  \n",
            "0  6  12  18  24  30  36  \n"
          ]
        }
      ]
    }
  ]
}