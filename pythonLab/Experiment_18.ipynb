{
  "nbformat": 4,
  "nbformat_minor": 0,
  "metadata": {
    "colab": {
      "name": "Experiment 18.ipynb",
      "provenance": [],
      "authorship_tag": "ABX9TyN0bWsuTs38ljEENcX+hpOv",
      "include_colab_link": true
    },
    "kernelspec": {
      "name": "python3",
      "display_name": "Python 3"
    },
    "language_info": {
      "name": "python"
    }
  },
  "cells": [
    {
      "cell_type": "markdown",
      "metadata": {
        "id": "view-in-github",
        "colab_type": "text"
      },
      "source": [
        "<a href=\"https://colab.research.google.com/github/vaaibhavsharma/pyCJ/blob/main/pythonLab/Experiment_18.ipynb\" target=\"_parent\"><img src=\"https://colab.research.google.com/assets/colab-badge.svg\" alt=\"Open In Colab\"/></a>"
      ]
    },
    {
      "cell_type": "code",
      "metadata": {
        "colab": {
          "base_uri": "https://localhost:8080/"
        },
        "id": "ipfr9sG3E89x",
        "outputId": "b3c0c371-168f-4489-bdb6-3936c799d1da"
      },
      "source": [
        "# 1.   Write a Python Program to calculate the area of a circle.\n",
        "# OOP\n",
        "\n",
        "class calculateCircle:\n",
        "  def __init__(self, pi, r):\n",
        "    self.pi = pi\n",
        "    self.radius = r\n",
        "\n",
        "  def area(self):\n",
        "    return self.pi*self.radius**2\n",
        "  \n",
        "\n",
        "c1 =  calculateCircle(3.17, 2)\n",
        "\n",
        "print(c1.area())\n"
      ],
      "execution_count": 8,
      "outputs": [
        {
          "output_type": "stream",
          "name": "stdout",
          "text": [
            "12.68\n"
          ]
        }
      ]
    },
    {
      "cell_type": "code",
      "metadata": {
        "colab": {
          "base_uri": "https://localhost:8080/"
        },
        "id": "QWMnIt-IHgMl",
        "outputId": "f7d9d429-3c40-4d1a-a313-4f3965c830b7"
      },
      "source": [
        "# 2.   Write a Python Program to calculate the volume of a box.\n",
        "\n",
        "class calculateVolume:\n",
        "  def __init__(self, **kwargs):\n",
        "    #Cuboid\n",
        "    if kwargs['typeBox'] == \"cuboid\":\n",
        "      self.length = kwargs['length']\n",
        "      self.width = kwargs['width']\n",
        "      self.height = kwargs['height']\n",
        "    elif kwargs['typeBox'] == \"cube\":\n",
        "      self.side = kwargs['side']\n",
        "    else:\n",
        "      self.typeOfT = \"None\"\n",
        "\n",
        "  def Cuboid(self):\n",
        "    return self.length*self.width*self.height\n",
        "  def cube(self):\n",
        "    return self.side**3\n",
        "  \n",
        "\n",
        "c1 =  calculateVolume(typeBox = \"cuboid\", length = 2, width = 3, height = 10)\n",
        "c2 =  calculateVolume(typeBox = \"cube\", side = 4)\n",
        "\n",
        "print(c1.Cuboid())\n",
        "print(c2.cube())"
      ],
      "execution_count": 12,
      "outputs": [
        {
          "output_type": "stream",
          "name": "stdout",
          "text": [
            "60\n",
            "64\n"
          ]
        }
      ]
    }
  ]
}